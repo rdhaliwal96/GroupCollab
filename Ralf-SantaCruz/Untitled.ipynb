{
 "cells": [
  {
   "cell_type": "code",
   "execution_count": 1,
   "metadata": {},
   "outputs": [],
   "source": [
    "import requests\n",
    "import json\n",
    "from pprint import pprint"
   ]
  },
  {
   "cell_type": "code",
   "execution_count": 2,
   "metadata": {},
   "outputs": [
    {
     "name": "stdout",
     "output_type": "stream",
     "text": [
      "enter school nameUCLA\n"
     ]
    }
   ],
   "source": [
    "school_name = input('enter school name')\n",
    "url = f\"https://api.data.gov/ed/collegescorecard/v1/schools?school.name={school_name}%20college\"\n",
    "api_key = \"&api_key=ZFScUc9c2KuKx2N81FUZImL9tlDi9I1f4fsuDGMg\"\n",
    "\n",
    "new_url = f'{url}{api_key}'"
   ]
  },
  {
   "cell_type": "code",
   "execution_count": 3,
   "metadata": {},
   "outputs": [
    {
     "name": "stdout",
     "output_type": "stream",
     "text": [
      "{'metadata': {'page': 0, 'per_page': 20, 'total': 0}, 'results': []}\n"
     ]
    }
   ],
   "source": [
    "data = requests.get(new_url).json()\n",
    "pprint(data)"
   ]
  },
  {
   "cell_type": "code",
   "execution_count": null,
   "metadata": {},
   "outputs": [],
   "source": []
  }
 ],
 "metadata": {
  "kernelspec": {
   "display_name": "PythonData",
   "language": "python",
   "name": "pythondata"
  },
  "language_info": {
   "codemirror_mode": {
    "name": "ipython",
    "version": 3
   },
   "file_extension": ".py",
   "mimetype": "text/x-python",
   "name": "python",
   "nbconvert_exporter": "python",
   "pygments_lexer": "ipython3",
   "version": "3.6.0"
  }
 },
 "nbformat": 4,
 "nbformat_minor": 2
}
